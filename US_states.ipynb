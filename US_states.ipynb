{
 "cells": [
  {
   "cell_type": "code",
   "execution_count": 1,
   "id": "8cbdfd7b",
   "metadata": {},
   "outputs": [],
   "source": [
    "import pandas as pd"
   ]
  },
  {
   "cell_type": "code",
   "execution_count": 2,
   "id": "107be618",
   "metadata": {},
   "outputs": [
    {
     "name": "stdout",
     "output_type": "stream",
     "text": [
      "              PLACEKEY      PARENT_PLACEKEY                     LOCATION_NAME  \\\n",
      "0  227-222@63r-bv7-6rk                  NaN    Townhouses at 9304 Vanguard Ct   \n",
      "1  zzy-22d@8dj-jtx-h3q  zzy-227@8dj-jtx-k9f                    Hair Vigilante   \n",
      "2  22w-222@63r-w7w-m49                  NaN       Townhouses at 46 Lombard Ln   \n",
      "3  248-222@5z5-34v-n3q                  NaN  Doug Willis RE MAX Arroyo Realty   \n",
      "4  228-223@627-z4c-2c5                  NaN                    Sweet Stitches   \n",
      "\n",
      "  SAFEGRAPH_BRAND_IDS BRANDS  STORE_ID  \\\n",
      "0                 NaN    NaN       NaN   \n",
      "1                 NaN    NaN       NaN   \n",
      "2                 NaN    NaN       NaN   \n",
      "3                 NaN    NaN       NaN   \n",
      "4                 NaN    NaN       NaN   \n",
      "\n",
      "                                TOP_CATEGORY  \\\n",
      "0                     Lessors of Real Estate   \n",
      "1                     Personal Care Services   \n",
      "2                     Lessors of Real Estate   \n",
      "3  Offices of Real Estate Agents and Brokers   \n",
      "4           Drycleaning and Laundry Services   \n",
      "\n",
      "                                     SUB_CATEGORY  NAICS_CODE   LATITUDE  ...  \\\n",
      "0  Lessors of Residential Buildings and Dwellings    531110.0  39.394925  ...   \n",
      "1                                   Beauty Salons    812112.0  27.907902  ...   \n",
      "2  Lessors of Residential Buildings and Dwellings    531110.0  39.332950  ...   \n",
      "3       Offices of Real Estate Agents and Brokers    531210.0  34.129082  ...   \n",
      "4                                             NaN      8123.0  41.110671  ...   \n",
      "\n",
      "   ISO_COUNTRY_CODE  PHONE_NUMBER OPEN_HOURS CATEGORY_TAGS  OPENED_ON  \\\n",
      "0                US           NaN        NaN           NaN        NaN   \n",
      "1                US           NaN        NaN           NaN        NaN   \n",
      "2                US           NaN        NaN           NaN        NaN   \n",
      "3                US  1.626432e+10        NaN           NaN        NaN   \n",
      "4                US           NaN        NaN           NaN        NaN   \n",
      "\n",
      "  CLOSED_ON  TRACKING_CLOSED_SINCE GEOMETRY_TYPE DOMAINS WEBSITE  \n",
      "0       NaN                2019-07       POLYGON    \"[]\"     NaN  \n",
      "1       NaN                2019-07       POLYGON    \"[]\"     NaN  \n",
      "2       NaN                2019-07       POLYGON    \"[]\"     NaN  \n",
      "3       NaN                2019-07       POLYGON    \"[]\"     NaN  \n",
      "4       NaN                2019-07       POLYGON    \"[]\"     NaN  \n",
      "\n",
      "[5 rows x 25 columns]\n"
     ]
    }
   ],
   "source": [
    "d_US = pd.read_csv(\"combined_data.csv\")\n",
    "\n",
    "print(d_US.head())"
   ]
  },
  {
   "cell_type": "code",
   "execution_count": 3,
   "id": "771fac16",
   "metadata": {},
   "outputs": [
    {
     "name": "stdout",
     "output_type": "stream",
     "text": [
      "Index(['PLACEKEY', 'PARENT_PLACEKEY', 'LOCATION_NAME', 'SAFEGRAPH_BRAND_IDS',\n",
      "       'BRANDS', 'STORE_ID', 'TOP_CATEGORY', 'SUB_CATEGORY', 'NAICS_CODE',\n",
      "       'LATITUDE', 'LONGITUDE', 'STREET_ADDRESS', 'CITY', 'REGION',\n",
      "       'POSTAL_CODE', 'ISO_COUNTRY_CODE', 'PHONE_NUMBER', 'OPEN_HOURS',\n",
      "       'CATEGORY_TAGS', 'OPENED_ON', 'CLOSED_ON', 'TRACKING_CLOSED_SINCE',\n",
      "       'GEOMETRY_TYPE', 'DOMAINS', 'WEBSITE'],\n",
      "      dtype='object')\n"
     ]
    }
   ],
   "source": [
    "# print(d_US.columns)"
   ]
  },
  {
   "cell_type": "code",
   "execution_count": 9,
   "id": "c1a4ef29",
   "metadata": {},
   "outputs": [],
   "source": [
    "# d_OH = d_US[(d_US['REGION'] == 'OH')]\n"
   ]
  },
  {
   "cell_type": "code",
   "execution_count": 10,
   "id": "5bb014c4",
   "metadata": {},
   "outputs": [],
   "source": [
    "# print (d_OH)\n",
    "# d_OH.to_csv('d_OH.csv')"
   ]
  },
  {
   "cell_type": "code",
   "execution_count": 3,
   "id": "07c2c715",
   "metadata": {},
   "outputs": [],
   "source": [
    "# d_TX = d_US[(d_US['REGION'] == 'TX')]\n",
    "\n",
    "d_PA_NJ_DE_MD = d_US[(d_US['REGION'] == 'PA')|(d_US['REGION'] == 'NJ')|(d_US['REGION'] == 'DE')|(d_US['REGION'] == 'MD')]\n",
    "\n"
   ]
  },
  {
   "cell_type": "code",
   "execution_count": null,
   "id": "0609fa6b",
   "metadata": {},
   "outputs": [],
   "source": []
  },
  {
   "cell_type": "code",
   "execution_count": 4,
   "id": "d7512fae",
   "metadata": {},
   "outputs": [],
   "source": [
    "# d_TX.to_csv('d_TX.csv')\n",
    "d_PA_NJ_DE_MD.to_csv('d_PA_NJ_DE_MD.csv')\n"
   ]
  },
  {
   "cell_type": "code",
   "execution_count": 8,
   "id": "a1528ca6",
   "metadata": {},
   "outputs": [],
   "source": [
    "# d_CA = d_US[(d_US['REGION'] == 'CA')]\n",
    "# d_CA.to_csv('d_CA.csv')"
   ]
  },
  {
   "cell_type": "code",
   "execution_count": null,
   "id": "1321d2ac",
   "metadata": {},
   "outputs": [],
   "source": []
  }
 ],
 "metadata": {
  "kernelspec": {
   "display_name": "Python 3 (ipykernel)",
   "language": "python",
   "name": "python3"
  },
  "language_info": {
   "codemirror_mode": {
    "name": "ipython",
    "version": 3
   },
   "file_extension": ".py",
   "mimetype": "text/x-python",
   "name": "python",
   "nbconvert_exporter": "python",
   "pygments_lexer": "ipython3",
   "version": "3.11.4"
  }
 },
 "nbformat": 4,
 "nbformat_minor": 5
}
